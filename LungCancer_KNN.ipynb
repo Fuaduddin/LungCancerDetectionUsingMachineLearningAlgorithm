{
 "cells": [
  {
   "cell_type": "code",
   "execution_count": 1,
   "metadata": {},
   "outputs": [],
   "source": [
    "import pandas as pd\n",
    "import numpy as np\n",
    "import io\n",
    "from pandas import read_excel\n",
    "from sklearn import tree\n",
    "from sklearn.model_selection import train_test_split\n",
    "from sklearn.metrics import accuracy_score, classification_report, confusion_matrix\n",
    "from matplotlib import pyplot as plt\n",
    "from scipy import misc\n",
    "from sklearn.neighbors import KNeighborsClassifier\n",
    "%matplotlib inline"
   ]
  },
  {
   "cell_type": "code",
   "execution_count": 2,
   "metadata": {},
   "outputs": [],
   "source": [
    "data=pd.read_csv(r\"LungDataSet.csv\")"
   ]
  },
  {
   "cell_type": "code",
   "execution_count": 3,
   "metadata": {},
   "outputs": [
    {
     "data": {
      "text/html": [
       "<div>\n",
       "<style scoped>\n",
       "    .dataframe tbody tr th:only-of-type {\n",
       "        vertical-align: middle;\n",
       "    }\n",
       "\n",
       "    .dataframe tbody tr th {\n",
       "        vertical-align: top;\n",
       "    }\n",
       "\n",
       "    .dataframe thead th {\n",
       "        text-align: right;\n",
       "    }\n",
       "</style>\n",
       "<table border=\"1\" class=\"dataframe\">\n",
       "  <thead>\n",
       "    <tr style=\"text-align: right;\">\n",
       "      <th></th>\n",
       "      <th>Patient Id</th>\n",
       "      <th>Age</th>\n",
       "      <th>Gender</th>\n",
       "      <th>AirPollution</th>\n",
       "      <th>Alcoholuse</th>\n",
       "      <th>DustAllergy</th>\n",
       "      <th>OccuPationalHazards</th>\n",
       "      <th>GeneticRisk</th>\n",
       "      <th>chronicLungDisease</th>\n",
       "      <th>BalancedDiet</th>\n",
       "      <th>...</th>\n",
       "      <th>Fatigue</th>\n",
       "      <th>WeightLoss</th>\n",
       "      <th>ShortnessofBreath</th>\n",
       "      <th>Wheezing</th>\n",
       "      <th>SwallowingDifficulty</th>\n",
       "      <th>ClubbingofFingerNails</th>\n",
       "      <th>FrequentCold</th>\n",
       "      <th>DryCough</th>\n",
       "      <th>Snoring</th>\n",
       "      <th>Level</th>\n",
       "    </tr>\n",
       "  </thead>\n",
       "  <tbody>\n",
       "    <tr>\n",
       "      <th>0</th>\n",
       "      <td>P1</td>\n",
       "      <td>33</td>\n",
       "      <td>1</td>\n",
       "      <td>2</td>\n",
       "      <td>4</td>\n",
       "      <td>5</td>\n",
       "      <td>4</td>\n",
       "      <td>3</td>\n",
       "      <td>2</td>\n",
       "      <td>2</td>\n",
       "      <td>...</td>\n",
       "      <td>3</td>\n",
       "      <td>4</td>\n",
       "      <td>2</td>\n",
       "      <td>2</td>\n",
       "      <td>3</td>\n",
       "      <td>1</td>\n",
       "      <td>2</td>\n",
       "      <td>3</td>\n",
       "      <td>4</td>\n",
       "      <td>Low</td>\n",
       "    </tr>\n",
       "    <tr>\n",
       "      <th>1</th>\n",
       "      <td>P10</td>\n",
       "      <td>17</td>\n",
       "      <td>1</td>\n",
       "      <td>3</td>\n",
       "      <td>1</td>\n",
       "      <td>5</td>\n",
       "      <td>3</td>\n",
       "      <td>4</td>\n",
       "      <td>2</td>\n",
       "      <td>2</td>\n",
       "      <td>...</td>\n",
       "      <td>1</td>\n",
       "      <td>3</td>\n",
       "      <td>7</td>\n",
       "      <td>8</td>\n",
       "      <td>6</td>\n",
       "      <td>2</td>\n",
       "      <td>1</td>\n",
       "      <td>7</td>\n",
       "      <td>2</td>\n",
       "      <td>Medium</td>\n",
       "    </tr>\n",
       "    <tr>\n",
       "      <th>2</th>\n",
       "      <td>P100</td>\n",
       "      <td>35</td>\n",
       "      <td>1</td>\n",
       "      <td>4</td>\n",
       "      <td>5</td>\n",
       "      <td>6</td>\n",
       "      <td>5</td>\n",
       "      <td>5</td>\n",
       "      <td>4</td>\n",
       "      <td>6</td>\n",
       "      <td>...</td>\n",
       "      <td>8</td>\n",
       "      <td>7</td>\n",
       "      <td>9</td>\n",
       "      <td>2</td>\n",
       "      <td>1</td>\n",
       "      <td>4</td>\n",
       "      <td>6</td>\n",
       "      <td>7</td>\n",
       "      <td>2</td>\n",
       "      <td>High</td>\n",
       "    </tr>\n",
       "    <tr>\n",
       "      <th>3</th>\n",
       "      <td>P1000</td>\n",
       "      <td>37</td>\n",
       "      <td>1</td>\n",
       "      <td>7</td>\n",
       "      <td>7</td>\n",
       "      <td>7</td>\n",
       "      <td>7</td>\n",
       "      <td>6</td>\n",
       "      <td>7</td>\n",
       "      <td>7</td>\n",
       "      <td>...</td>\n",
       "      <td>4</td>\n",
       "      <td>2</td>\n",
       "      <td>3</td>\n",
       "      <td>1</td>\n",
       "      <td>4</td>\n",
       "      <td>5</td>\n",
       "      <td>6</td>\n",
       "      <td>7</td>\n",
       "      <td>5</td>\n",
       "      <td>High</td>\n",
       "    </tr>\n",
       "    <tr>\n",
       "      <th>4</th>\n",
       "      <td>P101</td>\n",
       "      <td>46</td>\n",
       "      <td>1</td>\n",
       "      <td>6</td>\n",
       "      <td>8</td>\n",
       "      <td>7</td>\n",
       "      <td>7</td>\n",
       "      <td>7</td>\n",
       "      <td>6</td>\n",
       "      <td>7</td>\n",
       "      <td>...</td>\n",
       "      <td>3</td>\n",
       "      <td>2</td>\n",
       "      <td>4</td>\n",
       "      <td>1</td>\n",
       "      <td>4</td>\n",
       "      <td>2</td>\n",
       "      <td>4</td>\n",
       "      <td>2</td>\n",
       "      <td>3</td>\n",
       "      <td>High</td>\n",
       "    </tr>\n",
       "  </tbody>\n",
       "</table>\n",
       "<p>5 rows × 25 columns</p>\n",
       "</div>"
      ],
      "text/plain": [
       "  Patient Id  Age  Gender  AirPollution  Alcoholuse  DustAllergy  \\\n",
       "0         P1   33       1             2           4            5   \n",
       "1        P10   17       1             3           1            5   \n",
       "2       P100   35       1             4           5            6   \n",
       "3      P1000   37       1             7           7            7   \n",
       "4       P101   46       1             6           8            7   \n",
       "\n",
       "   OccuPationalHazards  GeneticRisk  chronicLungDisease  BalancedDiet  ...  \\\n",
       "0                    4            3                   2             2  ...   \n",
       "1                    3            4                   2             2  ...   \n",
       "2                    5            5                   4             6  ...   \n",
       "3                    7            6                   7             7  ...   \n",
       "4                    7            7                   6             7  ...   \n",
       "\n",
       "   Fatigue  WeightLoss  ShortnessofBreath  Wheezing  SwallowingDifficulty  \\\n",
       "0        3           4                  2         2                     3   \n",
       "1        1           3                  7         8                     6   \n",
       "2        8           7                  9         2                     1   \n",
       "3        4           2                  3         1                     4   \n",
       "4        3           2                  4         1                     4   \n",
       "\n",
       "   ClubbingofFingerNails  FrequentCold  DryCough  Snoring   Level  \n",
       "0                      1             2         3        4     Low  \n",
       "1                      2             1         7        2  Medium  \n",
       "2                      4             6         7        2    High  \n",
       "3                      5             6         7        5    High  \n",
       "4                      2             4         2        3    High  \n",
       "\n",
       "[5 rows x 25 columns]"
      ]
     },
     "execution_count": 3,
     "metadata": {},
     "output_type": "execute_result"
    }
   ],
   "source": [
    "data.head()"
   ]
  },
  {
   "cell_type": "code",
   "execution_count": 4,
   "metadata": {},
   "outputs": [
    {
     "data": {
      "text/plain": [
       "(1000, 25)"
      ]
     },
     "execution_count": 4,
     "metadata": {},
     "output_type": "execute_result"
    }
   ],
   "source": [
    "data.shape"
   ]
  },
  {
   "cell_type": "code",
   "execution_count": 5,
   "metadata": {},
   "outputs": [
    {
     "data": {
      "text/plain": [
       "Index(['Patient Id', 'Age', 'Gender', 'AirPollution', 'Alcoholuse',\n",
       "       'DustAllergy', 'OccuPationalHazards', 'GeneticRisk',\n",
       "       'chronicLungDisease', 'BalancedDiet', 'Obesity', 'Smoking',\n",
       "       'PassiveSmoker', 'ChestPain', 'CoughingofBlood', 'Fatigue',\n",
       "       'WeightLoss', 'ShortnessofBreath', 'Wheezing', 'SwallowingDifficulty',\n",
       "       'ClubbingofFingerNails', 'FrequentCold', 'DryCough', 'Snoring',\n",
       "       'Level'],\n",
       "      dtype='object')"
      ]
     },
     "execution_count": 5,
     "metadata": {},
     "output_type": "execute_result"
    }
   ],
   "source": [
    "data.columns"
   ]
  },
  {
   "cell_type": "code",
   "execution_count": 6,
   "metadata": {},
   "outputs": [
    {
     "data": {
      "text/plain": [
       "Patient Id               0\n",
       "Age                      0\n",
       "Gender                   0\n",
       "AirPollution             0\n",
       "Alcoholuse               0\n",
       "DustAllergy              0\n",
       "OccuPationalHazards      0\n",
       "GeneticRisk              0\n",
       "chronicLungDisease       0\n",
       "BalancedDiet             0\n",
       "Obesity                  0\n",
       "Smoking                  0\n",
       "PassiveSmoker            0\n",
       "ChestPain                0\n",
       "CoughingofBlood          0\n",
       "Fatigue                  0\n",
       "WeightLoss               0\n",
       "ShortnessofBreath        0\n",
       "Wheezing                 0\n",
       "SwallowingDifficulty     0\n",
       "ClubbingofFingerNails    0\n",
       "FrequentCold             0\n",
       "DryCough                 0\n",
       "Snoring                  0\n",
       "Level                    0\n",
       "dtype: int64"
      ]
     },
     "execution_count": 6,
     "metadata": {},
     "output_type": "execute_result"
    }
   ],
   "source": [
    "data.isnull().sum()"
   ]
  },
  {
   "cell_type": "code",
   "execution_count": 7,
   "metadata": {},
   "outputs": [],
   "source": [
    "features = [\"Age\", \"Gender\", \"AirPollution\", \"Alcoholuse\", \"DustAllergy\", \"OccuPationalHazards\", \"GeneticRisk\", \"chronicLungDisease\", \"BalancedDiet\", \"Obesity\", \"Smoking\", \"PassiveSmoker\", \"ChestPain\", \"CoughingofBlood\", \"Fatigue\", \"WeightLoss\", \"ShortnessofBreath\", \"Wheezing\", \"SwallowingDifficulty\", \"ClubbingofFingerNails\", \"FrequentCold\", \"DryCough\", \"Snoring\"]"
   ]
  },
  {
   "cell_type": "code",
   "execution_count": 8,
   "metadata": {},
   "outputs": [
    {
     "data": {
      "text/plain": [
       "array(['Low', 'Medium', 'High'], dtype=object)"
      ]
     },
     "execution_count": 8,
     "metadata": {},
     "output_type": "execute_result"
    }
   ],
   "source": [
    "data['Level'].unique()"
   ]
  },
  {
   "cell_type": "code",
   "execution_count": 9,
   "metadata": {},
   "outputs": [
    {
     "name": "stdout",
     "output_type": "stream",
     "text": [
      "Total Data set  1000\n",
      "Traning Dataset 700\n",
      "Test Dataset 300\n"
     ]
    }
   ],
   "source": [
    "train, test = train_test_split(data, test_size = 0.3)\n",
    "print(\"Total Data set \",len(data))\n",
    "print(\"Traning Dataset\",len(train))\n",
    "print(\"Test Dataset\", len(test))"
   ]
  },
  {
   "cell_type": "code",
   "execution_count": 10,
   "metadata": {},
   "outputs": [],
   "source": [
    "x_train = train[features]\n",
    "y_train = train[\"Level\"]\n",
    "\n",
    "x_test = test[features]\n",
    "y_test = test[\"Level\"]"
   ]
  },
  {
   "cell_type": "code",
   "execution_count": 11,
   "metadata": {},
   "outputs": [],
   "source": [
    "c =KNeighborsClassifier()\n",
    "dt = c.fit(x_train, y_train)"
   ]
  },
  {
   "cell_type": "code",
   "execution_count": 12,
   "metadata": {},
   "outputs": [
    {
     "data": {
      "text/plain": [
       "array(['Medium', 'Medium', 'Medium', 'High', 'Medium', 'High', 'Medium',\n",
       "       'High', 'High', 'Medium', 'High', 'High', 'Low', 'High', 'Medium',\n",
       "       'High', 'Medium', 'High', 'Medium', 'High', 'Low', 'Medium',\n",
       "       'Medium', 'Low', 'High', 'Medium', 'High', 'Low', 'High', 'Medium',\n",
       "       'Medium', 'Medium', 'Medium', 'High', 'Medium', 'High', 'Medium',\n",
       "       'High', 'High', 'High', 'High', 'Medium', 'High', 'High', 'High',\n",
       "       'Medium', 'Medium', 'Low', 'Medium', 'High', 'High', 'Low', 'Low',\n",
       "       'High', 'Medium', 'High', 'Medium', 'High', 'High', 'Medium',\n",
       "       'High', 'Low', 'High', 'Low', 'High', 'Low', 'Medium', 'High',\n",
       "       'Low', 'Low', 'High', 'Low', 'Low', 'Low', 'Medium', 'Medium',\n",
       "       'Low', 'High', 'High', 'High', 'High', 'High', 'High', 'Low',\n",
       "       'High', 'High', 'Medium', 'High', 'High', 'Medium', 'Low', 'High',\n",
       "       'Medium', 'Medium', 'Medium', 'Low', 'Medium', 'High', 'Medium',\n",
       "       'Low', 'Medium', 'Medium', 'Medium', 'Low', 'High', 'Medium',\n",
       "       'Medium', 'Low', 'Medium', 'Low', 'Medium', 'High', 'Low',\n",
       "       'Medium', 'High', 'Medium', 'Low', 'High', 'Medium', 'Medium',\n",
       "       'High', 'High', 'Low', 'Low', 'High', 'High', 'Low', 'Medium',\n",
       "       'High', 'Low', 'Medium', 'High', 'High', 'High', 'Low', 'Low',\n",
       "       'Low', 'High', 'Medium', 'Low', 'Low', 'Low', 'High', 'Medium',\n",
       "       'Low', 'Medium', 'Medium', 'Medium', 'Medium', 'High', 'High',\n",
       "       'Low', 'High', 'High', 'Medium', 'High', 'Medium', 'High',\n",
       "       'Medium', 'Medium', 'High', 'Low', 'Low', 'Low', 'Low', 'High',\n",
       "       'Low', 'High', 'High', 'Low', 'Low', 'Medium', 'Low', 'Low',\n",
       "       'Medium', 'Low', 'Medium', 'High', 'High', 'Medium', 'High',\n",
       "       'High', 'Low', 'Low', 'Medium', 'High', 'Medium', 'Medium',\n",
       "       'Medium', 'High', 'Low', 'Medium', 'Medium', 'Medium', 'Medium',\n",
       "       'Low', 'Medium', 'Low', 'Low', 'Low', 'High', 'High', 'Medium',\n",
       "       'Low', 'High', 'Medium', 'Medium', 'High', 'Medium', 'Low', 'Low',\n",
       "       'Low', 'Low', 'Low', 'High', 'High', 'Low', 'Low', 'Medium', 'Low',\n",
       "       'Medium', 'High', 'High', 'Low', 'High', 'Low', 'Low', 'Medium',\n",
       "       'Low', 'High', 'Low', 'Low', 'Medium', 'High', 'Medium', 'Low',\n",
       "       'High', 'High', 'Medium', 'Medium', 'Low', 'High', 'Medium',\n",
       "       'High', 'High', 'High', 'Low', 'Medium', 'High', 'Low', 'High',\n",
       "       'High', 'Medium', 'Medium', 'Low', 'Low', 'Low', 'Low', 'High',\n",
       "       'High', 'Medium', 'High', 'High', 'Low', 'Medium', 'Medium', 'Low',\n",
       "       'Low', 'Medium', 'Medium', 'Low', 'Low', 'Medium', 'High',\n",
       "       'Medium', 'High', 'High', 'Medium', 'Medium', 'High', 'Low',\n",
       "       'High', 'Low', 'Medium', 'Low', 'Medium', 'High', 'High', 'High',\n",
       "       'Medium', 'Low', 'High', 'Medium', 'High', 'Medium', 'High', 'Low',\n",
       "       'Low', 'High', 'Medium'], dtype=object)"
      ]
     },
     "execution_count": 12,
     "metadata": {},
     "output_type": "execute_result"
    }
   ],
   "source": [
    "y_pred = c.predict(x_test)\n",
    "y_pred"
   ]
  },
  {
   "cell_type": "code",
   "execution_count": 13,
   "metadata": {},
   "outputs": [
    {
     "name": "stdout",
     "output_type": "stream",
     "text": [
      "Accuracy:  99.67 %,  299.0 Correct Predictions\n",
      "Inaccuracy:  0.33 %,  1.0 Incorrect Predictions\n"
     ]
    }
   ],
   "source": [
    "score = accuracy_score(y_test, y_pred)*100\n",
    "acc = round(score,2)\n",
    "inac = round(100-acc,2)\n",
    "corr = (score*len(test))/100\n",
    "print(\"Accuracy: \", acc, \"%, \", corr, \"Correct Predictions\")\n",
    "print(\"Inaccuracy: \", inac, \"%, \", len(test)-corr, \"Incorrect Predictions\")"
   ]
  },
  {
   "cell_type": "code",
   "execution_count": 14,
   "metadata": {},
   "outputs": [
    {
     "name": "stdout",
     "output_type": "stream",
     "text": [
      "[[111   0   0]\n",
      " [  0  88   1]\n",
      " [  0   0 100]]\n"
     ]
    }
   ],
   "source": [
    "print(confusion_matrix(y_test, y_pred))"
   ]
  },
  {
   "cell_type": "code",
   "execution_count": 15,
   "metadata": {},
   "outputs": [
    {
     "name": "stdout",
     "output_type": "stream",
     "text": [
      "              precision    recall  f1-score   support\n",
      "\n",
      "        High       1.00      1.00      1.00       111\n",
      "         Low       1.00      0.99      0.99        89\n",
      "      Medium       0.99      1.00      1.00       100\n",
      "\n",
      "    accuracy                           1.00       300\n",
      "   macro avg       1.00      1.00      1.00       300\n",
      "weighted avg       1.00      1.00      1.00       300\n",
      "\n"
     ]
    }
   ],
   "source": [
    "print(classification_report(y_test, y_pred))"
   ]
  }
 ],
 "metadata": {
  "kernelspec": {
   "display_name": "Python 3",
   "language": "python",
   "name": "python3"
  },
  "language_info": {
   "codemirror_mode": {
    "name": "ipython",
    "version": 3
   },
   "file_extension": ".py",
   "mimetype": "text/x-python",
   "name": "python",
   "nbconvert_exporter": "python",
   "pygments_lexer": "ipython3",
   "version": "3.8.3"
  }
 },
 "nbformat": 4,
 "nbformat_minor": 4
}
